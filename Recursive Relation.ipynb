{
 "cells": [
  {
   "cell_type": "code",
   "execution_count": null,
   "id": "b89c73dc-ab77-484e-a1d2-6a9eb4faa682",
   "metadata": {},
   "outputs": [],
   "source": []
  }
 ],
 "metadata": {
  "kernelspec": {
   "display_name": "",
   "name": ""
  },
  "language_info": {
   "name": ""
  }
 },
 "nbformat": 4,
 "nbformat_minor": 5
}
